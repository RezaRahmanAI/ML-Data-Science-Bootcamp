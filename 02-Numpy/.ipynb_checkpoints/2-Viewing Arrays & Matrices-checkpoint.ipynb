{
 "cells": [
  {
   "cell_type": "code",
   "execution_count": 1,
   "id": "2a84e821",
   "metadata": {},
   "outputs": [],
   "source": [
    "import numpy as np"
   ]
  },
  {
   "cell_type": "code",
   "execution_count": 2,
   "id": "d7de16bb",
   "metadata": {},
   "outputs": [
    {
     "data": {
      "text/plain": [
       "array([[6, 3, 0],\n",
       "       [5, 7, 7],\n",
       "       [2, 9, 1],\n",
       "       [1, 8, 3],\n",
       "       [1, 2, 8]])"
      ]
     },
     "execution_count": 2,
     "metadata": {},
     "output_type": "execute_result"
    }
   ],
   "source": [
    "a = np.random.randint(10, size = (5,3))\n",
    "a"
   ]
  },
  {
   "cell_type": "code",
   "execution_count": 3,
   "id": "cb5e9353",
   "metadata": {},
   "outputs": [
    {
     "data": {
      "text/plain": [
       "array([0, 1, 2, 3, 5, 6, 7, 8, 9])"
      ]
     },
     "execution_count": 3,
     "metadata": {},
     "output_type": "execute_result"
    }
   ],
   "source": [
    "np.unique(a)"
   ]
  },
  {
   "cell_type": "code",
   "execution_count": 4,
   "id": "d52fcc04",
   "metadata": {},
   "outputs": [
    {
     "data": {
      "text/plain": [
       "array([6, 3, 0])"
      ]
     },
     "execution_count": 4,
     "metadata": {},
     "output_type": "execute_result"
    }
   ],
   "source": [
    "a[0]"
   ]
  },
  {
   "cell_type": "code",
   "execution_count": 5,
   "id": "c6d12317",
   "metadata": {},
   "outputs": [
    {
     "data": {
      "text/plain": [
       "3"
      ]
     },
     "execution_count": 5,
     "metadata": {},
     "output_type": "execute_result"
    }
   ],
   "source": [
    "a[0][1]"
   ]
  },
  {
   "cell_type": "code",
   "execution_count": 9,
   "id": "7ddc9536",
   "metadata": {},
   "outputs": [
    {
     "data": {
      "text/plain": [
       "array([[6, 3, 0],\n",
       "       [5, 7, 7]])"
      ]
     },
     "execution_count": 9,
     "metadata": {},
     "output_type": "execute_result"
    }
   ],
   "source": [
    "a[:2]"
   ]
  },
  {
   "cell_type": "code",
   "execution_count": 11,
   "id": "53f5a0fc",
   "metadata": {},
   "outputs": [
    {
     "data": {
      "text/plain": [
       "array([[6, 3],\n",
       "       [5, 7]])"
      ]
     },
     "execution_count": 11,
     "metadata": {},
     "output_type": "execute_result"
    }
   ],
   "source": [
    "a[:2, :2]"
   ]
  },
  {
   "cell_type": "code",
   "execution_count": 12,
   "id": "221126db",
   "metadata": {},
   "outputs": [
    {
     "data": {
      "text/plain": [
       "array([[6, 3]])"
      ]
     },
     "execution_count": 12,
     "metadata": {},
     "output_type": "execute_result"
    }
   ],
   "source": [
    "a[:1, :2]"
   ]
  },
  {
   "cell_type": "code",
   "execution_count": 13,
   "id": "a49367a2",
   "metadata": {},
   "outputs": [
    {
     "data": {
      "text/plain": [
       "array([[[[1, 0, 0, 9, 1],\n",
       "         [0, 8, 2, 0, 0],\n",
       "         [4, 3, 7, 7, 2],\n",
       "         [1, 4, 9, 0, 2]],\n",
       "\n",
       "        [[1, 2, 1, 4, 7],\n",
       "         [1, 8, 6, 0, 9],\n",
       "         [1, 1, 4, 9, 8],\n",
       "         [3, 6, 9, 2, 1]],\n",
       "\n",
       "        [[1, 4, 6, 1, 2],\n",
       "         [9, 1, 2, 8, 8],\n",
       "         [4, 5, 3, 6, 3],\n",
       "         [1, 7, 3, 6, 7]]],\n",
       "\n",
       "\n",
       "       [[[5, 8, 1, 9, 5],\n",
       "         [8, 5, 8, 3, 6],\n",
       "         [3, 7, 3, 5, 4],\n",
       "         [2, 6, 2, 2, 6]],\n",
       "\n",
       "        [[8, 5, 8, 4, 3],\n",
       "         [6, 4, 8, 2, 6],\n",
       "         [6, 4, 1, 1, 3],\n",
       "         [6, 9, 1, 5, 9]],\n",
       "\n",
       "        [[6, 8, 6, 2, 8],\n",
       "         [4, 2, 9, 3, 7],\n",
       "         [6, 2, 6, 4, 9],\n",
       "         [9, 2, 8, 6, 3]]]])"
      ]
     },
     "execution_count": 13,
     "metadata": {},
     "output_type": "execute_result"
    }
   ],
   "source": [
    "a4 = np.random.randint(10, size = (2, 3, 4, 5))\n",
    "a4"
   ]
  },
  {
   "cell_type": "code",
   "execution_count": 14,
   "id": "fcd3934d",
   "metadata": {},
   "outputs": [
    {
     "data": {
      "text/plain": [
       "((2, 3, 4, 5), 4)"
      ]
     },
     "execution_count": 14,
     "metadata": {},
     "output_type": "execute_result"
    }
   ],
   "source": [
    "a4.shape, a4.ndim"
   ]
  },
  {
   "cell_type": "code",
   "execution_count": 15,
   "id": "ad7919d6",
   "metadata": {},
   "outputs": [
    {
     "data": {
      "text/plain": [
       "array([[[[1],\n",
       "         [0],\n",
       "         [4],\n",
       "         [1]],\n",
       "\n",
       "        [[1],\n",
       "         [1],\n",
       "         [1],\n",
       "         [3]],\n",
       "\n",
       "        [[1],\n",
       "         [9],\n",
       "         [4],\n",
       "         [1]]],\n",
       "\n",
       "\n",
       "       [[[5],\n",
       "         [8],\n",
       "         [3],\n",
       "         [2]],\n",
       "\n",
       "        [[8],\n",
       "         [6],\n",
       "         [6],\n",
       "         [6]],\n",
       "\n",
       "        [[6],\n",
       "         [4],\n",
       "         [6],\n",
       "         [9]]]])"
      ]
     },
     "execution_count": 15,
     "metadata": {},
     "output_type": "execute_result"
    }
   ],
   "source": [
    "# get the 1st 4 number of inner most arrays\n",
    "a4[:, :, :, :1]"
   ]
  },
  {
   "cell_type": "code",
   "execution_count": null,
   "id": "21f72190",
   "metadata": {},
   "outputs": [],
   "source": []
  }
 ],
 "metadata": {
  "kernelspec": {
   "display_name": "Python 3 (ipykernel)",
   "language": "python",
   "name": "python3"
  },
  "language_info": {
   "codemirror_mode": {
    "name": "ipython",
    "version": 3
   },
   "file_extension": ".py",
   "mimetype": "text/x-python",
   "name": "python",
   "nbconvert_exporter": "python",
   "pygments_lexer": "ipython3",
   "version": "3.11.4"
  }
 },
 "nbformat": 4,
 "nbformat_minor": 5
}
