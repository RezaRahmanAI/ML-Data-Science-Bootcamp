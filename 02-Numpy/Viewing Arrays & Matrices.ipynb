{
 "cells": [
  {
   "cell_type": "code",
   "execution_count": 1,
   "id": "0ed869b7",
   "metadata": {},
   "outputs": [],
   "source": [
    "import numpy as np"
   ]
  },
  {
   "cell_type": "code",
   "execution_count": 2,
   "id": "49f91654",
   "metadata": {},
   "outputs": [
    {
     "data": {
      "text/plain": [
       "array([[6, 3, 0],\n",
       "       [5, 7, 7],\n",
       "       [2, 9, 1],\n",
       "       [1, 8, 3],\n",
       "       [1, 2, 8]])"
      ]
     },
     "execution_count": 2,
     "metadata": {},
     "output_type": "execute_result"
    }
   ],
   "source": [
    "a = np.random.randint(10, size = (5,3))\n",
    "a"
   ]
  },
  {
   "cell_type": "code",
   "execution_count": 3,
   "id": "a9a5a9da",
   "metadata": {},
   "outputs": [
    {
     "data": {
      "text/plain": [
       "array([0, 1, 2, 3, 5, 6, 7, 8, 9])"
      ]
     },
     "execution_count": 3,
     "metadata": {},
     "output_type": "execute_result"
    }
   ],
   "source": [
    "np.unique(a)"
   ]
  },
  {
   "cell_type": "code",
   "execution_count": 4,
   "id": "e2e2a2d4",
   "metadata": {},
   "outputs": [
    {
     "data": {
      "text/plain": [
       "array([6, 3, 0])"
      ]
     },
     "execution_count": 4,
     "metadata": {},
     "output_type": "execute_result"
    }
   ],
   "source": [
    "a[0]"
   ]
  },
  {
   "cell_type": "code",
   "execution_count": 5,
   "id": "7c8301e6",
   "metadata": {},
   "outputs": [
    {
     "data": {
      "text/plain": [
       "3"
      ]
     },
     "execution_count": 5,
     "metadata": {},
     "output_type": "execute_result"
    }
   ],
   "source": [
    "a[0][1]"
   ]
  },
  {
   "cell_type": "code",
   "execution_count": 9,
   "id": "3caa2028",
   "metadata": {},
   "outputs": [
    {
     "data": {
      "text/plain": [
       "array([[6, 3, 0],\n",
       "       [5, 7, 7]])"
      ]
     },
     "execution_count": 9,
     "metadata": {},
     "output_type": "execute_result"
    }
   ],
   "source": [
    "a[:2]"
   ]
  },
  {
   "cell_type": "code",
   "execution_count": 11,
   "id": "a27fd4e7",
   "metadata": {},
   "outputs": [
    {
     "data": {
      "text/plain": [
       "array([[6, 3],\n",
       "       [5, 7]])"
      ]
     },
     "execution_count": 11,
     "metadata": {},
     "output_type": "execute_result"
    }
   ],
   "source": [
    "a[:2, :2]"
   ]
  },
  {
   "cell_type": "code",
   "execution_count": 12,
   "id": "9d06e411",
   "metadata": {},
   "outputs": [
    {
     "data": {
      "text/plain": [
       "array([[6, 3]])"
      ]
     },
     "execution_count": 12,
     "metadata": {},
     "output_type": "execute_result"
    }
   ],
   "source": [
    "a[:1, :2]"
   ]
  },
  {
   "cell_type": "code",
   "execution_count": 13,
   "id": "1d03a4eb",
   "metadata": {},
   "outputs": [
    {
     "data": {
      "text/plain": [
       "array([[[[1, 0, 0, 9, 1],\n",
       "         [0, 8, 2, 0, 0],\n",
       "         [4, 3, 7, 7, 2],\n",
       "         [1, 4, 9, 0, 2]],\n",
       "\n",
       "        [[1, 2, 1, 4, 7],\n",
       "         [1, 8, 6, 0, 9],\n",
       "         [1, 1, 4, 9, 8],\n",
       "         [3, 6, 9, 2, 1]],\n",
       "\n",
       "        [[1, 4, 6, 1, 2],\n",
       "         [9, 1, 2, 8, 8],\n",
       "         [4, 5, 3, 6, 3],\n",
       "         [1, 7, 3, 6, 7]]],\n",
       "\n",
       "\n",
       "       [[[5, 8, 1, 9, 5],\n",
       "         [8, 5, 8, 3, 6],\n",
       "         [3, 7, 3, 5, 4],\n",
       "         [2, 6, 2, 2, 6]],\n",
       "\n",
       "        [[8, 5, 8, 4, 3],\n",
       "         [6, 4, 8, 2, 6],\n",
       "         [6, 4, 1, 1, 3],\n",
       "         [6, 9, 1, 5, 9]],\n",
       "\n",
       "        [[6, 8, 6, 2, 8],\n",
       "         [4, 2, 9, 3, 7],\n",
       "         [6, 2, 6, 4, 9],\n",
       "         [9, 2, 8, 6, 3]]]])"
      ]
     },
     "execution_count": 13,
     "metadata": {},
     "output_type": "execute_result"
    }
   ],
   "source": [
    "a4 = np.random.randint(10, size = (2, 3, 4, 5))\n",
    "a4"
   ]
  },
  {
   "cell_type": "code",
   "execution_count": 14,
   "id": "21702275",
   "metadata": {},
   "outputs": [
    {
     "data": {
      "text/plain": [
       "((2, 3, 4, 5), 4)"
      ]
     },
     "execution_count": 14,
     "metadata": {},
     "output_type": "execute_result"
    }
   ],
   "source": [
    "a4.shape, a4.ndim"
   ]
  },
  {
   "cell_type": "code",
   "execution_count": 15,
   "id": "cb8d6ba5",
   "metadata": {},
   "outputs": [
    {
     "data": {
      "text/plain": [
       "array([[[[1],\n",
       "         [0],\n",
       "         [4],\n",
       "         [1]],\n",
       "\n",
       "        [[1],\n",
       "         [1],\n",
       "         [1],\n",
       "         [3]],\n",
       "\n",
       "        [[1],\n",
       "         [9],\n",
       "         [4],\n",
       "         [1]]],\n",
       "\n",
       "\n",
       "       [[[5],\n",
       "         [8],\n",
       "         [3],\n",
       "         [2]],\n",
       "\n",
       "        [[8],\n",
       "         [6],\n",
       "         [6],\n",
       "         [6]],\n",
       "\n",
       "        [[6],\n",
       "         [4],\n",
       "         [6],\n",
       "         [9]]]])"
      ]
     },
     "execution_count": 15,
     "metadata": {},
     "output_type": "execute_result"
    }
   ],
   "source": [
    "# get the 1st 4 number of inner most arrays\n",
    "a4[:, :, :, :1]"
   ]
  },
  {
   "cell_type": "markdown",
   "id": "0896e642",
   "metadata": {},
   "source": [
    "# Manipulatin Data"
   ]
  },
  {
   "cell_type": "code",
   "execution_count": 16,
   "id": "75f7a6b7",
   "metadata": {},
   "outputs": [
    {
     "data": {
      "text/plain": [
       "array([1., 1., 1.])"
      ]
     },
     "execution_count": 16,
     "metadata": {},
     "output_type": "execute_result"
    }
   ],
   "source": [
    "ones = np.ones(3)\n",
    "ones"
   ]
  },
  {
   "cell_type": "code",
   "execution_count": 18,
   "id": "c3a6a1e9",
   "metadata": {},
   "outputs": [
    {
     "data": {
      "text/plain": [
       "array([[2, 5, 7]])"
      ]
     },
     "execution_count": 18,
     "metadata": {},
     "output_type": "execute_result"
    }
   ],
   "source": [
    "twos = np.random.randint(1, 10, size= (1,3))\n",
    "twos"
   ]
  },
  {
   "cell_type": "code",
   "execution_count": 19,
   "id": "fbf88e29",
   "metadata": {},
   "outputs": [
    {
     "data": {
      "text/plain": [
       "array([[2., 5., 7.]])"
      ]
     },
     "execution_count": 19,
     "metadata": {},
     "output_type": "execute_result"
    }
   ],
   "source": [
    "ones * twos"
   ]
  },
  {
   "cell_type": "code",
   "execution_count": 20,
   "id": "9432a719",
   "metadata": {},
   "outputs": [
    {
     "data": {
      "text/plain": [
       "numpy.ndarray"
      ]
     },
     "execution_count": 20,
     "metadata": {},
     "output_type": "execute_result"
    }
   ],
   "source": [
    "type(twos)"
   ]
  },
  {
   "cell_type": "code",
   "execution_count": 21,
   "id": "e06b753b",
   "metadata": {},
   "outputs": [
    {
     "data": {
      "text/plain": [
       "dtype('int64')"
      ]
     },
     "execution_count": 21,
     "metadata": {},
     "output_type": "execute_result"
    }
   ],
   "source": [
    "twos.dtype"
   ]
  },
  {
   "cell_type": "code",
   "execution_count": 22,
   "id": "d6f03acc",
   "metadata": {},
   "outputs": [
    {
     "data": {
      "text/plain": [
       "array([2, 3, 4])"
      ]
     },
     "execution_count": 22,
     "metadata": {},
     "output_type": "execute_result"
    }
   ],
   "source": [
    "a1 = np.array([2,3,4])\n",
    "a1"
   ]
  },
  {
   "cell_type": "code",
   "execution_count": 24,
   "id": "0116efd2",
   "metadata": {},
   "outputs": [
    {
     "data": {
      "text/plain": [
       "array([[ 4, 15, 28]])"
      ]
     },
     "execution_count": 24,
     "metadata": {},
     "output_type": "execute_result"
    }
   ],
   "source": [
    "a1 * twos"
   ]
  },
  {
   "cell_type": "code",
   "execution_count": 25,
   "id": "a3136c2e",
   "metadata": {},
   "outputs": [
    {
     "data": {
      "text/plain": [
       "array([[1.        , 1.66666667, 1.75      ]])"
      ]
     },
     "execution_count": 25,
     "metadata": {},
     "output_type": "execute_result"
    }
   ],
   "source": [
    "twos / a1"
   ]
  },
  {
   "cell_type": "code",
   "execution_count": 26,
   "id": "881406e2",
   "metadata": {},
   "outputs": [
    {
     "data": {
      "text/plain": [
       "0.816496580927726"
      ]
     },
     "execution_count": 26,
     "metadata": {},
     "output_type": "execute_result"
    }
   ],
   "source": [
    "np.std(a1)"
   ]
  },
  {
   "cell_type": "code",
   "execution_count": 27,
   "id": "fd7f725b",
   "metadata": {},
   "outputs": [
    {
     "data": {
      "text/plain": [
       "14"
      ]
     },
     "execution_count": 27,
     "metadata": {},
     "output_type": "execute_result"
    }
   ],
   "source": [
    "np.sum(twos)"
   ]
  },
  {
   "cell_type": "code",
   "execution_count": 28,
   "id": "ede709b5",
   "metadata": {},
   "outputs": [
    {
     "data": {
      "text/plain": [
       "0.6666666666666666"
      ]
     },
     "execution_count": 28,
     "metadata": {},
     "output_type": "execute_result"
    }
   ],
   "source": [
    "np.var(a1)"
   ]
  },
  {
   "cell_type": "code",
   "execution_count": 31,
   "id": "8dd51cce",
   "metadata": {},
   "outputs": [
    {
     "data": {
      "text/plain": [
       "0.816496580927726"
      ]
     },
     "execution_count": 31,
     "metadata": {},
     "output_type": "execute_result"
    }
   ],
   "source": [
    "np.sqrt(np.var(a1))"
   ]
  },
  {
   "cell_type": "code",
   "execution_count": null,
   "id": "6bc5cbb6",
   "metadata": {},
   "outputs": [],
   "source": []
  }
 ],
 "metadata": {
  "kernelspec": {
   "display_name": "Python 3 (ipykernel)",
   "language": "python",
   "name": "python3"
  },
  "language_info": {
   "codemirror_mode": {
    "name": "ipython",
    "version": 3
   },
   "file_extension": ".py",
   "mimetype": "text/x-python",
   "name": "python",
   "nbconvert_exporter": "python",
   "pygments_lexer": "ipython3",
   "version": "3.11.4"
  }
 },
 "nbformat": 4,
 "nbformat_minor": 5
}
